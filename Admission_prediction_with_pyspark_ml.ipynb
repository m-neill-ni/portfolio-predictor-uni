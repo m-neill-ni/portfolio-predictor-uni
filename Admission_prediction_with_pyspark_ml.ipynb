{
 "cells": [
  {
   "cell_type": "markdown",
   "metadata": {
    "id": "rZtskxrQyg3e"
   },
   "source": [
    "# TASK 1 : Install Dependencies & Run a SparkSession\n"
   ]
  },
  {
   "cell_type": "code",
   "execution_count": 80,
   "metadata": {
    "id": "a9huiQF8yfIK"
   },
   "outputs": [
    {
     "name": "stdout",
     "output_type": "stream",
     "text": [
      "Defaulting to user installation because normal site-packages is not writeable\n",
      "Requirement already satisfied: pyspark in /home/vscode/.local/lib/python3.12/site-packages (3.5.0)\n",
      "Requirement already satisfied: py4j==0.10.9.7 in /home/vscode/.local/lib/python3.12/site-packages (from pyspark) (0.10.9.7)\n",
      "\n",
      "\u001b[1m[\u001b[0m\u001b[34;49mnotice\u001b[0m\u001b[1;39;49m]\u001b[0m\u001b[39;49m A new release of pip is available: \u001b[0m\u001b[31;49m23.2.1\u001b[0m\u001b[39;49m -> \u001b[0m\u001b[32;49m24.0\u001b[0m\n",
      "\u001b[1m[\u001b[0m\u001b[34;49mnotice\u001b[0m\u001b[1;39;49m]\u001b[0m\u001b[39;49m To update, run: \u001b[0m\u001b[32;49mpip install --upgrade pip\u001b[0m\n",
      "Defaulting to user installation because normal site-packages is not writeable\n",
      "Requirement already satisfied: numpy in /home/vscode/.local/lib/python3.12/site-packages (1.26.4)\n",
      "\n",
      "\u001b[1m[\u001b[0m\u001b[34;49mnotice\u001b[0m\u001b[1;39;49m]\u001b[0m\u001b[39;49m A new release of pip is available: \u001b[0m\u001b[31;49m23.2.1\u001b[0m\u001b[39;49m -> \u001b[0m\u001b[32;49m24.0\u001b[0m\n",
      "\u001b[1m[\u001b[0m\u001b[34;49mnotice\u001b[0m\u001b[1;39;49m]\u001b[0m\u001b[39;49m To update, run: \u001b[0m\u001b[32;49mpip install --upgrade pip\u001b[0m\n",
      "Defaulting to user installation because normal site-packages is not writeable\n",
      "Requirement already satisfied: pip in /usr/local/lib/python3.12/site-packages (23.2.1)\n",
      "Collecting pip\n",
      "  Obtaining dependency information for pip from https://files.pythonhosted.org/packages/8a/6a/19e9fe04fca059ccf770861c7d5721ab4c2aebc539889e97c7977528a53b/pip-24.0-py3-none-any.whl.metadata\n",
      "  Downloading pip-24.0-py3-none-any.whl.metadata (3.6 kB)\n",
      "Downloading pip-24.0-py3-none-any.whl (2.1 MB)\n",
      "\u001b[2K   \u001b[38;2;114;156;31m━━━━━━━━━━━━━━━━━━━━━━━━━━━━━━━━━━━━━━━━\u001b[0m \u001b[32m2.1/2.1 MB\u001b[0m \u001b[31m943.6 kB/s\u001b[0m eta \u001b[36m0:00:00\u001b[0mm eta \u001b[36m0:00:01\u001b[0m[36m0:00:01\u001b[0m\n",
      "\u001b[?25hInstalling collected packages: pip\n",
      "Successfully installed pip-24.0\n"
     ]
    }
   ],
   "source": [
    "! pip install pyspark\n",
    "! pip install numpy"
   ]
  },
  {
   "cell_type": "code",
   "execution_count": 33,
   "metadata": {
    "id": "1wZpO2gxy7Pt"
   },
   "outputs": [],
   "source": [
    "#create a sparksession\n",
    "from pyspark.sql import SparkSession\n",
    "from pyspark.sql.functions import col, lit\n",
    "sp = SparkSession.builder.appName(\"spark\").getOrCreate()"
   ]
  },
  {
   "cell_type": "markdown",
   "metadata": {
    "id": "8t7JFc_My__A"
   },
   "source": [
    "# TASK 2 : Clone & Explore dataset"
   ]
  },
  {
   "cell_type": "code",
   "execution_count": 4,
   "metadata": {
    "id": "C0oRpI4ezFgc"
   },
   "outputs": [
    {
     "name": "stdout",
     "output_type": "stream",
     "text": [
      "Cloning into 'admission_dataset'...\n",
      "remote: Enumerating objects: 3, done.\u001b[K\n",
      "remote: Counting objects: 100% (3/3), done.\u001b[K\n",
      "remote: Compressing objects: 100% (3/3), done.\u001b[K\n",
      "remote: Total 3 (delta 0), reused 0 (delta 0), pack-reused 0\u001b[K\n",
      "Receiving objects: 100% (3/3), 5.60 KiB | 1.87 MiB/s, done.\n"
     ]
    }
   ],
   "source": [
    "#clone the dataset\n",
    "! git clone https://github.com/education454/admission_dataset"
   ]
  },
  {
   "cell_type": "code",
   "execution_count": 5,
   "metadata": {
    "id": "q6sF2NVazjtU"
   },
   "outputs": [
    {
     "name": "stdout",
     "output_type": "stream",
     "text": [
      "+---------+---------+-----------+-----------------+---+---+----+--------+---------------+\n",
      "|Serial No|GRE Score|TOEFL Score|University Rating|SOP|LOR|CGPA|Research|Chance of Admit|\n",
      "+---------+---------+-----------+-----------------+---+---+----+--------+---------------+\n",
      "|        1|      337|        118|                4|4.5|4.5|9.65|       1|           0.92|\n",
      "|        2|      324|        107|                4|4.0|4.5|8.87|       1|           0.76|\n",
      "|        3|      316|        104|                3|3.0|3.5| 8.0|       1|           0.72|\n",
      "|        4|      322|        110|                3|3.5|2.5|8.67|       1|            0.8|\n",
      "|        5|      314|        103|                2|2.0|3.0|8.21|       0|           0.65|\n",
      "|        6|      330|        115|                5|4.5|3.0|9.34|       1|            0.9|\n",
      "|        7|      321|        109|                3|3.0|4.0| 8.2|       1|           0.75|\n",
      "|        8|      308|        101|                2|3.0|4.0| 7.9|       0|           0.68|\n",
      "|        9|      302|        102|                1|2.0|1.5| 8.0|       0|            0.5|\n",
      "|       10|      323|        108|                3|3.5|3.0| 8.6|       0|           0.45|\n",
      "|       11|      325|        106|                3|3.5|4.0| 8.4|       1|           0.52|\n",
      "|       12|      327|        111|                4|4.0|4.5| 9.0|       1|           0.84|\n",
      "|       13|      328|        112|                4|4.0|4.5| 9.1|       1|           0.78|\n",
      "|       14|      307|        109|                3|4.0|3.0| 8.0|       1|           0.62|\n",
      "|       15|      311|        104|                3|3.5|2.0| 8.2|       1|           0.61|\n",
      "|       16|      314|        105|                3|3.5|2.5| 8.3|       0|           0.54|\n",
      "|       17|      317|        107|                3|4.0|3.0| 8.7|       0|           0.66|\n",
      "|       18|      319|        106|                3|4.0|3.0| 8.0|       1|           0.65|\n",
      "|       19|      318|        110|                3|4.0|3.0| 8.8|       0|           0.63|\n",
      "|       20|      303|        102|                3|3.5|3.0| 8.5|       0|           0.62|\n",
      "+---------+---------+-----------+-----------------+---+---+----+--------+---------------+\n",
      "only showing top 20 rows\n",
      "\n"
     ]
    }
   ],
   "source": [
    "#create a spark dataframe\n",
    "df = sp.read.csv('data/admission_dataset/Admission_Predict_Ver1.1.csv', header=True, inferSchema=True)\n",
    "df.show()"
   ]
  },
  {
   "cell_type": "code",
   "execution_count": 6,
   "metadata": {
    "id": "cG6UhIUuznfJ"
   },
   "outputs": [
    {
     "data": {
      "text/plain": [
       "Row(Serial No=1, GRE Score=337, TOEFL Score=118, University Rating=4, SOP=4.5, LOR=4.5, CGPA=9.65, Research=1, Chance of Admit=0.92)"
      ]
     },
     "execution_count": 6,
     "metadata": {},
     "output_type": "execute_result"
    }
   ],
   "source": [
    "#display dataframe\n",
    "df.head()"
   ]
  },
  {
   "cell_type": "code",
   "execution_count": 7,
   "metadata": {
    "id": "tgtWocArzqVR"
   },
   "outputs": [
    {
     "name": "stdout",
     "output_type": "stream",
     "text": [
      "500 9\n"
     ]
    }
   ],
   "source": [
    "#get the no.of rows & columns\n",
    "print(df.count(), len(df.columns))"
   ]
  },
  {
   "cell_type": "code",
   "execution_count": 8,
   "metadata": {
    "id": "OWQTe006zt7O"
   },
   "outputs": [
    {
     "name": "stdout",
     "output_type": "stream",
     "text": [
      "root\n",
      " |-- Serial No: integer (nullable = true)\n",
      " |-- GRE Score: integer (nullable = true)\n",
      " |-- TOEFL Score: integer (nullable = true)\n",
      " |-- University Rating: integer (nullable = true)\n",
      " |-- SOP: double (nullable = true)\n",
      " |-- LOR: double (nullable = true)\n",
      " |-- CGPA: double (nullable = true)\n",
      " |-- Research: integer (nullable = true)\n",
      " |-- Chance of Admit: double (nullable = true)\n",
      "\n"
     ]
    }
   ],
   "source": [
    "#print schema \n",
    "df.printSchema()"
   ]
  },
  {
   "cell_type": "code",
   "execution_count": 9,
   "metadata": {
    "id": "locEx8HDz264"
   },
   "outputs": [
    {
     "name": "stderr",
     "output_type": "stream",
     "text": [
      "24/02/14 06:45:38 WARN SparkStringUtils: Truncated the string representation of a plan since it was too large. This behavior can be adjusted by setting 'spark.sql.debug.maxToStringFields'.\n"
     ]
    },
    {
     "name": "stdout",
     "output_type": "stream",
     "text": [
      "+-------+-----------------+------------------+-----------------+-----------------+------------------+------------------+------------------+------------------+-------------------+\n",
      "|summary|        Serial No|         GRE Score|      TOEFL Score|University Rating|               SOP|               LOR|              CGPA|          Research|    Chance of Admit|\n",
      "+-------+-----------------+------------------+-----------------+-----------------+------------------+------------------+------------------+------------------+-------------------+\n",
      "|  count|              500|               500|              500|              500|               500|               500|               500|               500|                500|\n",
      "|   mean|            250.5|           316.472|          107.192|            3.114|             3.374|             3.484| 8.576440000000003|              0.56| 0.7217399999999996|\n",
      "| stddev|144.4818327679989|11.295148372354712|6.081867659564538|1.143511800759815|0.9910036207566072|0.9254495738978191|0.6048128003332054|0.4968840786090358|0.14114040395030228|\n",
      "|    min|                1|               290|               92|                1|               1.0|               1.0|               6.8|                 0|               0.34|\n",
      "|    max|              500|               340|              120|                5|               5.0|               5.0|              9.92|                 1|               0.97|\n",
      "+-------+-----------------+------------------+-----------------+-----------------+------------------+------------------+------------------+------------------+-------------------+\n",
      "\n"
     ]
    }
   ],
   "source": [
    "#get the summary statistics\n",
    "df.describe().show()"
   ]
  },
  {
   "cell_type": "markdown",
   "metadata": {
    "id": "6uDdoEKsz6h6"
   },
   "source": [
    "# TASK 3 : Data Cleaning"
   ]
  },
  {
   "cell_type": "code",
   "execution_count": 16,
   "metadata": {
    "id": "o6gJAFo30G9s"
   },
   "outputs": [],
   "source": [
    "#drop the unnecessary column \n",
    "df = df.drop(\"Serial No\")"
   ]
  },
  {
   "cell_type": "code",
   "execution_count": 17,
   "metadata": {
    "id": "_lOPoDVk0OFH"
   },
   "outputs": [
    {
     "name": "stdout",
     "output_type": "stream",
     "text": [
      "+---------+-----------+-----------------+---+---+----+--------+---------------+\n",
      "|GRE Score|TOEFL Score|University Rating|SOP|LOR|CGPA|Research|Chance of Admit|\n",
      "+---------+-----------+-----------------+---+---+----+--------+---------------+\n",
      "|      337|        118|                4|4.5|4.5|9.65|       1|           0.92|\n",
      "|      324|        107|                4|4.0|4.5|8.87|       1|           0.76|\n",
      "|      316|        104|                3|3.0|3.5| 8.0|       1|           0.72|\n",
      "|      322|        110|                3|3.5|2.5|8.67|       1|            0.8|\n",
      "|      314|        103|                2|2.0|3.0|8.21|       0|           0.65|\n",
      "|      330|        115|                5|4.5|3.0|9.34|       1|            0.9|\n",
      "|      321|        109|                3|3.0|4.0| 8.2|       1|           0.75|\n",
      "|      308|        101|                2|3.0|4.0| 7.9|       0|           0.68|\n",
      "|      302|        102|                1|2.0|1.5| 8.0|       0|            0.5|\n",
      "|      323|        108|                3|3.5|3.0| 8.6|       0|           0.45|\n",
      "|      325|        106|                3|3.5|4.0| 8.4|       1|           0.52|\n",
      "|      327|        111|                4|4.0|4.5| 9.0|       1|           0.84|\n",
      "|      328|        112|                4|4.0|4.5| 9.1|       1|           0.78|\n",
      "|      307|        109|                3|4.0|3.0| 8.0|       1|           0.62|\n",
      "|      311|        104|                3|3.5|2.0| 8.2|       1|           0.61|\n",
      "|      314|        105|                3|3.5|2.5| 8.3|       0|           0.54|\n",
      "|      317|        107|                3|4.0|3.0| 8.7|       0|           0.66|\n",
      "|      319|        106|                3|4.0|3.0| 8.0|       1|           0.65|\n",
      "|      318|        110|                3|4.0|3.0| 8.8|       0|           0.63|\n",
      "|      303|        102|                3|3.5|3.0| 8.5|       0|           0.62|\n",
      "+---------+-----------+-----------------+---+---+----+--------+---------------+\n",
      "only showing top 20 rows\n",
      "\n"
     ]
    }
   ],
   "source": [
    "#display the dataframe\n",
    "df.show()"
   ]
  },
  {
   "cell_type": "code",
   "execution_count": 68,
   "metadata": {
    "id": "Au73oUZJ0Qv7"
   },
   "outputs": [
    {
     "name": "stdout",
     "output_type": "stream",
     "text": [
      "GRE Score: 0\n",
      "TOEFL Score: 0\n",
      "University Rating: 0\n",
      "SOP: 0\n",
      "LOR: 0\n",
      "CGPA: 0\n",
      "Research: 0\n",
      "Chance of Admit: 0\n",
      "+---------+-----------+-----------------+---+---+----+--------+---------------+\n",
      "|GRE Score|TOEFL Score|University Rating|SOP|LOR|CGPA|Research|Chance of Admit|\n",
      "+---------+-----------+-----------------+---+---+----+--------+---------------+\n",
      "|      337|        118|                4|4.5|4.5|9.65|       1|           0.92|\n",
      "|      324|        107|                4|4.0|4.5|8.87|       1|           0.76|\n",
      "|      316|        104|                3|3.0|3.5| 8.0|       1|           0.72|\n",
      "|      322|        110|                3|3.5|2.5|8.67|       1|            0.8|\n",
      "|      314|        103|                2|2.0|3.0|8.21|       0|           0.65|\n",
      "|      330|        115|                5|4.5|3.0|9.34|       1|            0.9|\n",
      "|      321|        109|                3|3.0|4.0| 8.2|       1|           0.75|\n",
      "|      308|        101|                2|3.0|4.0| 7.9|       0|           0.68|\n",
      "|      302|        102|                1|2.0|1.5| 8.0|       0|            0.5|\n",
      "|      323|        108|                3|3.5|3.0| 8.6|       0|           0.45|\n",
      "|      325|        106|                3|3.5|4.0| 8.4|       1|           0.52|\n",
      "|      327|        111|                4|4.0|4.5| 9.0|       1|           0.84|\n",
      "|      328|        112|                4|4.0|4.5| 9.1|       1|           0.78|\n",
      "|      307|        109|                3|4.0|3.0| 8.0|       1|           0.62|\n",
      "|      311|        104|                3|3.5|2.0| 8.2|       1|           0.61|\n",
      "|      314|        105|                3|3.5|2.5| 8.3|       0|           0.54|\n",
      "|      317|        107|                3|4.0|3.0| 8.7|       0|           0.66|\n",
      "|      319|        106|                3|4.0|3.0| 8.0|       1|           0.65|\n",
      "|      318|        110|                3|4.0|3.0| 8.8|       0|           0.63|\n",
      "|      303|        102|                3|3.5|3.0| 8.5|       0|           0.62|\n",
      "+---------+-----------+-----------------+---+---+----+--------+---------------+\n",
      "only showing top 20 rows\n",
      "\n"
     ]
    }
   ],
   "source": [
    "# check for null values\n",
    "for i in df.columns:\n",
    "    print(i+\":\", df[df[i].isNull()].count())\n",
    "\n",
    "# null_df = df\n",
    "# null_df = null_df.withColumn(\"name\", lit(None).cast(\"string\"))\n",
    "# null_df.show()\n",
    "\n",
    "# null_cols = []\n",
    "# for col_name in null_df.columns:\n",
    "#      if null_df.filter(col(col_name).isNull()).count() > 0:\n",
    "#         null_df = null_df.drop(col_name)\n",
    "         \n",
    "df.show()"
   ]
  },
  {
   "cell_type": "markdown",
   "metadata": {
    "id": "prkDI9Dc0SoH"
   },
   "source": [
    "# TASK 4 : Correlation Analysis & Feature Selection"
   ]
  },
  {
   "cell_type": "code",
   "execution_count": 72,
   "metadata": {
    "id": "eFhxSRRj0Ypa"
   },
   "outputs": [
    {
     "name": "stdout",
     "output_type": "stream",
     "text": [
      "Correlation to chance of admit col for GRE Score is 0.8103506354632598\n",
      "Correlation to chance of admit col for TOEFL Score is 0.7922276143050823\n",
      "Correlation to chance of admit col for University Rating is 0.6901323687886892\n",
      "Correlation to chance of admit col for SOP is 0.6841365241316723\n",
      "Correlation to chance of admit col for LOR is 0.6453645135280112\n",
      "Correlation to chance of admit col for CGPA is 0.882412574904574\n",
      "Correlation to chance of admit col for Research is 0.5458710294711379\n",
      "Correlation to chance of admit col for Chance of Admit is 1.0\n"
     ]
    }
   ],
   "source": [
    "# correlation analysis\n",
    "for col_name in df.columns:\n",
    "print('Correlation to chance of admit col for {} is {}'.format(col_name, df.stat.corr(('Chance of Admit', col_name)))"
   ]
  },
  {
   "cell_type": "code",
   "execution_count": 88,
   "metadata": {
    "id": "UXNOknvo0dV2"
   },
   "outputs": [],
   "source": [
    "# feature selection\n",
    "from pyspark.ml.feature import VectorAssembler\n",
    "assembeler = VectorAssembler(inputCols=['GRE Score', 'TOEFL Score', 'CGPA'], outputCol='features')"
   ]
  },
  {
   "cell_type": "code",
   "execution_count": 92,
   "metadata": {
    "id": "JOzlkPaz0ibL"
   },
   "outputs": [
    {
     "name": "stdout",
     "output_type": "stream",
     "text": [
      "+---------+-----------+-----------------+---+---+----+--------+---------------+------------------+\n",
      "|GRE Score|TOEFL Score|University Rating|SOP|LOR|CGPA|Research|Chance of Admit|          features|\n",
      "+---------+-----------+-----------------+---+---+----+--------+---------------+------------------+\n",
      "|      337|        118|                4|4.5|4.5|9.65|       1|           0.92|[337.0,118.0,9.65]|\n",
      "|      324|        107|                4|4.0|4.5|8.87|       1|           0.76|[324.0,107.0,8.87]|\n",
      "|      316|        104|                3|3.0|3.5| 8.0|       1|           0.72| [316.0,104.0,8.0]|\n",
      "|      322|        110|                3|3.5|2.5|8.67|       1|            0.8|[322.0,110.0,8.67]|\n",
      "|      314|        103|                2|2.0|3.0|8.21|       0|           0.65|[314.0,103.0,8.21]|\n",
      "|      330|        115|                5|4.5|3.0|9.34|       1|            0.9|[330.0,115.0,9.34]|\n",
      "|      321|        109|                3|3.0|4.0| 8.2|       1|           0.75| [321.0,109.0,8.2]|\n",
      "|      308|        101|                2|3.0|4.0| 7.9|       0|           0.68| [308.0,101.0,7.9]|\n",
      "|      302|        102|                1|2.0|1.5| 8.0|       0|            0.5| [302.0,102.0,8.0]|\n",
      "|      323|        108|                3|3.5|3.0| 8.6|       0|           0.45| [323.0,108.0,8.6]|\n",
      "|      325|        106|                3|3.5|4.0| 8.4|       1|           0.52| [325.0,106.0,8.4]|\n",
      "|      327|        111|                4|4.0|4.5| 9.0|       1|           0.84| [327.0,111.0,9.0]|\n",
      "|      328|        112|                4|4.0|4.5| 9.1|       1|           0.78| [328.0,112.0,9.1]|\n",
      "|      307|        109|                3|4.0|3.0| 8.0|       1|           0.62| [307.0,109.0,8.0]|\n",
      "|      311|        104|                3|3.5|2.0| 8.2|       1|           0.61| [311.0,104.0,8.2]|\n",
      "|      314|        105|                3|3.5|2.5| 8.3|       0|           0.54| [314.0,105.0,8.3]|\n",
      "|      317|        107|                3|4.0|3.0| 8.7|       0|           0.66| [317.0,107.0,8.7]|\n",
      "|      319|        106|                3|4.0|3.0| 8.0|       1|           0.65| [319.0,106.0,8.0]|\n",
      "|      318|        110|                3|4.0|3.0| 8.8|       0|           0.63| [318.0,110.0,8.8]|\n",
      "|      303|        102|                3|3.5|3.0| 8.5|       0|           0.62| [303.0,102.0,8.5]|\n",
      "+---------+-----------+-----------------+---+---+----+--------+---------------+------------------+\n",
      "only showing top 20 rows\n",
      "\n"
     ]
    }
   ],
   "source": [
    "#display dataframe\n",
    "output_data = assembeler.transform(df)\n",
    "output_data.show()"
   ]
  },
  {
   "cell_type": "markdown",
   "metadata": {
    "id": "l6FucLAC0r5I"
   },
   "source": [
    "# TASK 5 : Build the Linear Regression Model"
   ]
  },
  {
   "cell_type": "code",
   "execution_count": 97,
   "metadata": {
    "id": "RMYN_8jJ0wDR"
   },
   "outputs": [],
   "source": [
    "#import Linearregression and create final data\n",
    "from pyspark.ml.regression import LinearRegression\n",
    "final_data = output_data.select('features', 'Chance of Admit')"
   ]
  },
  {
   "cell_type": "code",
   "execution_count": 99,
   "metadata": {
    "id": "MNSEfLCp09oO"
   },
   "outputs": [
    {
     "name": "stdout",
     "output_type": "stream",
     "text": [
      "root\n",
      " |-- features: vector (nullable = true)\n",
      " |-- Chance of Admit: double (nullable = true)\n",
      "\n"
     ]
    }
   ],
   "source": [
    "#print schema of final data\n",
    "final_data.printSchema()"
   ]
  },
  {
   "cell_type": "code",
   "execution_count": 101,
   "metadata": {
    "id": "vOJylIiS1Dre"
   },
   "outputs": [],
   "source": [
    "#split the dataset into training and testing set\n",
    "train, test = final_data.randomSplit([0.7,0.3])"
   ]
  },
  {
   "cell_type": "code",
   "execution_count": 110,
   "metadata": {
    "id": "xoxFzm4A1Hee"
   },
   "outputs": [
    {
     "name": "stderr",
     "output_type": "stream",
     "text": [
      "24/02/14 09:38:35 WARN Instrumentation: [a838d677] regParam is zero, which might cause numerical instability and overfitting.\n"
     ]
    }
   ],
   "source": [
    "#build & train the model\n",
    "models = LinearRegression(featuresCol='features', labelCol='Chance of Admit')\n",
    "model = models.fit(train)"
   ]
  },
  {
   "cell_type": "code",
   "execution_count": 108,
   "metadata": {
    "id": "DDCZ9uvA1QLf"
   },
   "outputs": [
    {
     "name": "stdout",
     "output_type": "stream",
     "text": [
      "coefficients [0.002158647016101521,0.003420766092937167,0.14129332845744827]\n",
      "intercept -1.5373328405162217\n"
     ]
    }
   ],
   "source": [
    "#get coefficients & intercept\n",
    "print(\"coefficients\", model.coefficients)\n",
    "print(\"intercept\", model.intercept)"
   ]
  },
  {
   "cell_type": "code",
   "execution_count": 113,
   "metadata": {
    "id": "bO6Duj1l1YJX"
   },
   "outputs": [],
   "source": [
    "#get summary of the model\n",
    "summary = model.summary"
   ]
  },
  {
   "cell_type": "code",
   "execution_count": 116,
   "metadata": {
    "id": "ebi9LxFS1aBJ"
   },
   "outputs": [
    {
     "name": "stdout",
     "output_type": "stream",
     "text": [
      "RMSE 0.06031567966227178\n",
      "r2 score 0.8134489010049327\n"
     ]
    }
   ],
   "source": [
    "#print the rmse & r2 score\n",
    "print('RMSE', summary.rootMeanSquaredError)\n",
    "print('r2 score', summary.r2)"
   ]
  },
  {
   "cell_type": "markdown",
   "metadata": {
    "id": "b5lTskfK1eKV"
   },
   "source": [
    "# TASK 6 : Evaluate & Save the Model"
   ]
  },
  {
   "cell_type": "code",
   "execution_count": 117,
   "metadata": {
    "id": "l0TAwvGP1noC"
   },
   "outputs": [],
   "source": [
    "#transform on the test data\n",
    "predictions = model.transform(test)"
   ]
  },
  {
   "cell_type": "code",
   "execution_count": 121,
   "metadata": {
    "id": "T_DixZ6f1nvP"
   },
   "outputs": [
    {
     "name": "stdout",
     "output_type": "stream",
     "text": [
      "+------------------+---------------+-------------------+\n",
      "|          features|Chance of Admit|         prediction|\n",
      "+------------------+---------------+-------------------+\n",
      "|[290.0,100.0,7.56]|           0.47|  0.498928966585245|\n",
      "|  [295.0,93.0,7.2]|           0.46|0.43491124077051113|\n",
      "| [295.0,99.0,7.65]|           0.57| 0.5190178351339858|\n",
      "| [297.0,96.0,7.43]|           0.34|0.48198829862673875|\n",
      "|[297.0,101.0,7.67]|           0.57| 0.5330025279212123|\n",
      "| [298.0,92.0,7.88]|           0.51| 0.5340458790769431|\n",
      "| [299.0,96.0,7.86]|           0.54| 0.5470617238956446|\n",
      "| [299.0,97.0,7.66]|           0.38| 0.5222238242970922|\n",
      "|[299.0,100.0,7.88]|           0.51| 0.5635706548365422|\n",
      "|[299.0,100.0,7.89]|           0.59| 0.5649835881211165|\n",
      "|[299.0,102.0,8.62]|           0.56| 0.6749692500809279|\n",
      "| [300.0,95.0,8.22]|           0.62| 0.5966652030634902|\n",
      "| [300.0,99.0,8.01]|           0.58| 0.5806766684591746|\n",
      "|[300.0,100.0,8.26]|           0.62| 0.6194207666664742|\n",
      "| [301.0,96.0,7.56]|           0.54| 0.5089910193906131|\n",
      "| [301.0,97.0,7.88]|           0.44| 0.5576256505899337|\n",
      "|[301.0,106.0,8.47]|           0.57| 0.6717756092162626|\n",
      "|[302.0,101.0,7.96]|           0.46| 0.5847708282543795|\n",
      "| [302.0,102.0,8.0]|            0.5| 0.5938433274856147|\n",
      "| [304.0,97.0,7.64]|           0.47| 0.5301911928084504|\n",
      "+------------------+---------------+-------------------+\n",
      "only showing top 20 rows\n",
      "\n"
     ]
    }
   ],
   "source": [
    "#display the predictions\n",
    "predictions.show(20)"
   ]
  },
  {
   "cell_type": "code",
   "execution_count": 127,
   "metadata": {
    "id": "vzxDnudZ1n3n"
   },
   "outputs": [
    {
     "name": "stdout",
     "output_type": "stream",
     "text": [
      "r2 on the test data 0.7816299572049134\n"
     ]
    }
   ],
   "source": [
    "#evaluate the model \n",
    "from pyspark.ml.evaluation import RegressionEvaluator \n",
    "evaluator = RegressionEvaluator(predictionCol='prediction', labelCol='Chance of Admit', metricName='r2')\n",
    "print('r2 on the test data', evaluator.evaluate(predictions))"
   ]
  },
  {
   "cell_type": "code",
   "execution_count": 128,
   "metadata": {
    "id": "WEeyiruX1n_I"
   },
   "outputs": [],
   "source": [
    "#save the model\n",
    "model.save(\"uni-predicition-model\")"
   ]
  },
  {
   "cell_type": "code",
   "execution_count": 130,
   "metadata": {
    "id": "PK48FYRd2CMJ"
   },
   "outputs": [],
   "source": [
    "#load the model\n",
    "from pyspark.ml.regression import LinearRegressionModel\n",
    "model = LinearRegressionModel.load('uni-predicition-model')"
   ]
  },
  {
   "cell_type": "code",
   "execution_count": null,
   "metadata": {},
   "outputs": [],
   "source": []
  }
 ],
 "metadata": {
  "colab": {
   "name": "Admission_prediction_with_pyspark_ml.ipynb",
   "provenance": []
  },
  "kernelspec": {
   "display_name": "Python 3 (ipykernel)",
   "language": "python",
   "name": "python3"
  },
  "language_info": {
   "codemirror_mode": {
    "name": "ipython",
    "version": 3
   },
   "file_extension": ".py",
   "mimetype": "text/x-python",
   "name": "python",
   "nbconvert_exporter": "python",
   "pygments_lexer": "ipython3",
   "version": "3.12.1"
  }
 },
 "nbformat": 4,
 "nbformat_minor": 4
}
